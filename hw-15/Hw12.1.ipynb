{
 "cells": [
  {
   "cell_type": "markdown",
   "id": "1dd9f483-4dee-43f1-b14f-985cddedef60",
   "metadata": {},
   "source": [
    "**Завдання**\n",
    "\n",
    "\n",
    "Зробіть summary нижчевказаного тексту використовуючи бібліотеки для NLP: nltk та SpaCy"
   ]
  },
  {
   "cell_type": "markdown",
   "id": "75c86982-00f3-48d7-9cce-675f0c5df107",
   "metadata": {},
   "source": [
    "The Orbiter Discovery, OV-103, is considered eligible for listing in the National Register of Historic Places (NRHP) in the context of the U.S. Space Shuttle Program (1969-2011) under Criterion A in the areas of Space Exploration and Transportation and under Criterion C in the area of Engineering. Because it has achieved significance within the past fifty years, Criteria Consideration G applies. Under Criterion A, Discovery is significant as the oldest of the three extant orbiter vehicles constructed for the Space Shuttle Program (SSP), the longest running American space program to date; she was the third of five orbiters built by NASA. Unlike the Mercury, Gemini, and Apollo programs, the SSP’s emphasis was on cost effectiveness and reusability, and eventually the construction of a space station. Including her maiden voyage (launched August 30, 1984), Discovery flew to space thirty-nine times, more than any of the other four orbiters; she was also the first orbiter to fly twenty missions. She had the honor of being chosen as the Return to Flight vehicle after both the Challenger and Columbia accidents. Discovery was the first shuttle to fly with the redesigned SRBs, a result of the Challenger accident, and the first shuttle to fly with the Phase II and Block I SSME. Discovery also carried the Hubble Space Telescope to orbit and performed two of the five servicing missions to the observatory. She flew the first and last dedicated Department of Defense (DoD) missions, as well as the first unclassified defense-related mission. In addition, Discovery was vital to the construction of the International Space Station (ISS); she flew thirteen of the thirty-seven total missions flown to the station by a U.S. Space Shuttle. She was the first orbiter to dock to the ISS, and the first to perform an exchange of a resident crew. Under Criterion C, Discovery is significant as a feat of engineering. According to Wayne Hale, a flight director from Johnson Space Center, the Space Shuttle orbiter represents a “huge technological leap from expendable rockets and capsules to a reusable, winged, hypersonic, cargo-carrying spacecraft.” Although her base structure followed a conventional aircraft design, she used advanced materials that both minimized her weight for cargo-carrying purposes and featured low thermal expansion ratios, which provided a stable base for her Thermal Protection System (TPS) materials. The Space Shuttle orbiter also featured the first reusable TPS; all previous spaceflight vehicles had a single-use, ablative heat shield. Other notable engineering achievements of the orbiter included the first reusable orbital propulsion system, and the first two-fault-tolerant Integrated Avionics System. As Hale stated, the Space Shuttle remains “the largest, fastest, winged hypersonic aircraft in history,” having regularly flown at twenty-five times the speed of sound."
   ]
  },
  {
   "cell_type": "markdown",
   "id": "03fc9122-a5fe-44b0-89f6-ceaa37fd763d",
   "metadata": {},
   "source": [
    "Перш за все, ми повинні імпортувати необхідні бібліотеки. Для SpaCy це можна зробити за допомогою команди: import spacy\n",
    "\n",
    "Зауважте, що для NLTK можливо потрібно завантажити додаткові дані, наприклад, список стоп-слів або токенізатори."
   ]
  },
  {
   "cell_type": "code",
   "execution_count": 1,
   "id": "84955cc7-1554-4e40-9468-3b8124097cd5",
   "metadata": {},
   "outputs": [],
   "source": [
    "import spacy\n",
    "import nltk\n",
    "from nltk.corpus import stopwords\n",
    "from nltk.tokenize import word_tokenize, sent_tokenize\n",
    "from string import punctuation\n",
    "from heapq import nlargest"
   ]
  },
  {
   "cell_type": "markdown",
   "id": "8cb58695-aadb-4061-9860-ae8c43a66552",
   "metadata": {},
   "source": [
    "Перш ніж почати роботу з SpaCy, необхідно завантажити потрібну мовну модель. Наприклад, для англійської мови ми можемо завантажити модель \"en_core_web_sm\""
   ]
  },
  {
   "cell_type": "code",
   "execution_count": 2,
   "id": "0f7a14e0-7d41-4cf2-82bc-1bf08a736cb0",
   "metadata": {},
   "outputs": [],
   "source": [
    "nlp = spacy.load('en_core_web_sm')"
   ]
  },
  {
   "cell_type": "code",
   "execution_count": 4,
   "id": "70c7c5bd-818c-4062-885a-d41d5fd6c228",
   "metadata": {},
   "outputs": [],
   "source": [
    "# Текст для обробки\n",
    "text = \"The Orbiter Discovery, OV-103, is considered eligible for listing in the National Register of Historic Places (NRHP) in the context of the U.S. Space Shuttle Program (1969-2011) under Criterion A in the areas of Space Exploration and Transportation and under Criterion C in the area of Engineering. Because it has achieved significance within the past fifty years, Criteria Consideration G applies. Under Criterion A, Discovery is significant as the oldest of the three extant orbiter vehicles constructed for the Space Shuttle Program (SSP), the longest running American space program to date; she was the third of five orbiters built by NASA. Unlike the Mercury, Gemini, and Apollo programs, the SSP’s emphasis was on cost effectiveness and reusability, and eventually the construction of a space station. Including her maiden voyage (launched August 30, 1984), Discovery flew to space thirty-nine times, more than any of the other four orbiters; she was also the first orbiter to fly twenty missions. She had the honor of being chosen as the Return to Flight vehicle after both the Challenger and Columbia accidents. Discovery was the first shuttle to fly with the redesigned SRBs, a result of the Challenger accident, and the first shuttle to fly with the Phase II and Block I SSME. Discovery also carried the Hubble Space Telescope to orbit and performed two of the five servicing missions to the observatory. She flew the first and last dedicated Department of Defense (DoD) missions, as well as the first unclassified defense-related mission. In addition, Discovery was vital to the construction of the International Space Station (ISS); she flew thirteen of the thirty-seven total missions flown to the station by a U.S. Space Shuttle. She was the first orbiter to dock to the ISS, and the first to perform an exchange of a resident crew. Under Criterion C, Discovery is significant as a feat of engineering. According to Wayne Hale, a flight director from Johnson Space Center, the Space Shuttle orbiter represents a “huge technological leap from expendable rockets and capsules to a reusable, winged, hypersonic, cargo-carrying spacecraft.” Although her base structure followed a conventional aircraft design, she used advanced materials that both minimized her weight for cargo-carrying purposes and featured low thermal expansion ratios, which provided a stable base for her Thermal Protection System (TPS) materials. The Space Shuttle orbiter also featured the first reusable TPS; all previous spaceflight vehicles had a single-use, ablative heat shield. Other notable engineering achievements of the orbiter included the first reusable orbital propulsion system, and the first two-fault-tolerant Integrated Avionics System. As Hale stated, the Space Shuttle remains “the largest, fastest, winged hypersonic aircraft in history,” having regularly flown at twenty-five times the speed of sound.\""
   ]
  },
  {
   "cell_type": "markdown",
   "id": "ffbdab46-8892-402a-a6bf-2951ef6df891",
   "metadata": {},
   "source": [
    "Перш ніж почати створювати text summary, текст потрібно підготувати. Це включає в себе видалення непотрібних символів, токенізацію (розбиття тексту на окремі слова або речення), видалення стоп-слів (слова, які не несуть суттєвої інформації) і, за необхідності, інші обробки тексту, такі як стемінг або лематизація."
   ]
  },
  {
   "cell_type": "code",
   "execution_count": 7,
   "id": "5a011763-e6a1-4749-a3f4-4b0276eb8038",
   "metadata": {},
   "outputs": [
    {
     "name": "stdout",
     "output_type": "stream",
     "text": [
      "['The', 'Orbiter', 'Discovery', ',', 'OV-103', ',', 'is', 'considered', 'eligible', 'for', 'listing', 'in', 'the', 'National', 'Register', 'of', 'Historic', 'Places', '(', 'NRHP', ')', 'in', 'the', 'context', 'of', 'the', 'U.S.', 'Space', 'Shuttle', 'Program', '(', '1969', '-', '2011', ')', 'under', 'Criterion', 'A', 'in', 'the', 'areas', 'of', 'Space', 'Exploration', 'and', 'Transportation', 'and', 'under', 'Criterion', 'C', 'in', 'the', 'area', 'of', 'Engineering', '.', 'Because', 'it', 'has', 'achieved', 'significance', 'within', 'the', 'past', 'fifty', 'years', ',', 'Criteria', 'Consideration', 'G', 'applies', '.', 'Under', 'Criterion', 'A', ',', 'Discovery', 'is', 'significant', 'as', 'the', 'oldest', 'of', 'the', 'three', 'extant', 'orbiter', 'vehicles', 'constructed', 'for', 'the', 'Space', 'Shuttle', 'Program', '(', 'SSP', ')', ',', 'the', 'longest', 'running', 'American', 'space', 'program', 'to', 'date', ';', 'she', 'was', 'the', 'third', 'of', 'five', 'orbiters', 'built', 'by', 'NASA', '.', 'Unlike', 'the', 'Mercury', ',', 'Gemini', ',', 'and', 'Apollo', 'programs', ',', 'the', 'SSP', '’s', 'emphasis', 'was', 'on', 'cost', 'effectiveness', 'and', 'reusability', ',', 'and', 'eventually', 'the', 'construction', 'of', 'a', 'space', 'station', '.', 'Including', 'her', 'maiden', 'voyage', '(', 'launched', 'August', '30', ',', '1984', ')', ',', 'Discovery', 'flew', 'to', 'space', 'thirty', '-', 'nine', 'times', ',', 'more', 'than', 'any', 'of', 'the', 'other', 'four', 'orbiters', ';', 'she', 'was', 'also', 'the', 'first', 'orbiter', 'to', 'fly', 'twenty', 'missions', '.', 'She', 'had', 'the', 'honor', 'of', 'being', 'chosen', 'as', 'the', 'Return', 'to', 'Flight', 'vehicle', 'after', 'both', 'the', 'Challenger', 'and', 'Columbia', 'accidents', '.', 'Discovery', 'was', 'the', 'first', 'shuttle', 'to', 'fly', 'with', 'the', 'redesigned', 'SRBs', ',', 'a', 'result', 'of', 'the', 'Challenger', 'accident', ',', 'and', 'the', 'first', 'shuttle', 'to', 'fly', 'with', 'the', 'Phase', 'II', 'and', 'Block', 'I', 'SSME', '.', 'Discovery', 'also', 'carried', 'the', 'Hubble', 'Space', 'Telescope', 'to', 'orbit', 'and', 'performed', 'two', 'of', 'the', 'five', 'servicing', 'missions', 'to', 'the', 'observatory', '.', 'She', 'flew', 'the', 'first', 'and', 'last', 'dedicated', 'Department', 'of', 'Defense', '(', 'DoD', ')', 'missions', ',', 'as', 'well', 'as', 'the', 'first', 'unclassified', 'defense', '-', 'related', 'mission', '.', 'In', 'addition', ',', 'Discovery', 'was', 'vital', 'to', 'the', 'construction', 'of', 'the', 'International', 'Space', 'Station', '(', 'ISS', ')', ';', 'she', 'flew', 'thirteen', 'of', 'the', 'thirty', '-', 'seven', 'total', 'missions', 'flown', 'to', 'the', 'station', 'by', 'a', 'U.S.', 'Space', 'Shuttle', '.', 'She', 'was', 'the', 'first', 'orbiter', 'to', 'dock', 'to', 'the', 'ISS', ',', 'and', 'the', 'first', 'to', 'perform', 'an', 'exchange', 'of', 'a', 'resident', 'crew', '.', 'Under', 'Criterion', 'C', ',', 'Discovery', 'is', 'significant', 'as', 'a', 'feat', 'of', 'engineering', '.', 'According', 'to', 'Wayne', 'Hale', ',', 'a', 'flight', 'director', 'from', 'Johnson', 'Space', 'Center', ',', 'the', 'Space', 'Shuttle', 'orbiter', 'represents', 'a', '“', 'huge', 'technological', 'leap', 'from', 'expendable', 'rockets', 'and', 'capsules', 'to', 'a', 'reusable', ',', 'winged', ',', 'hypersonic', ',', 'cargo', '-', 'carrying', 'spacecraft', '.', '”', 'Although', 'her', 'base', 'structure', 'followed', 'a', 'conventional', 'aircraft', 'design', ',', 'she', 'used', 'advanced', 'materials', 'that', 'both', 'minimized', 'her', 'weight', 'for', 'cargo', '-', 'carrying', 'purposes', 'and', 'featured', 'low', 'thermal', 'expansion', 'ratios', ',', 'which', 'provided', 'a', 'stable', 'base', 'for', 'her', 'Thermal', 'Protection', 'System', '(', 'TPS', ')', 'materials', '.', 'The', 'Space', 'Shuttle', 'orbiter', 'also', 'featured', 'the', 'first', 'reusable', 'TPS', ';', 'all', 'previous', 'spaceflight', 'vehicles', 'had', 'a', 'single', '-', 'use', ',', 'ablative', 'heat', 'shield', '.', 'Other', 'notable', 'engineering', 'achievements', 'of', 'the', 'orbiter', 'included', 'the', 'first', 'reusable', 'orbital', 'propulsion', 'system', ',', 'and', 'the', 'first', 'two', '-', 'fault', '-', 'tolerant', 'Integrated', 'Avionics', 'System', '.', 'As', 'Hale', 'stated', ',', 'the', 'Space', 'Shuttle', 'remains', '“', 'the', 'largest', ',', 'fastest', ',', 'winged', 'hypersonic', 'aircraft', 'in', 'history', ',', '”', 'having', 'regularly', 'flown', 'at', 'twenty', '-', 'five', 'times', 'the', 'speed', 'of', 'sound', '.']\n"
     ]
    }
   ],
   "source": [
    "# Токенізація\n",
    "doc = nlp(text)\n",
    "tokens = [token.text for token in doc]\n",
    "print(tokens)"
   ]
  },
  {
   "cell_type": "markdown",
   "id": "7fd0da77-7955-4f41-8d23-2069ddd32d54",
   "metadata": {},
   "source": [
    "NLTK також надає розширені функції для обробки тексту. За допомогою методів NLTK, таких як word_tokenize, sent_tokenize або stopwords, ми можемо отримати токенізовані слова та речення, а також список стоп-слів."
   ]
  },
  {
   "cell_type": "code",
   "execution_count": 9,
   "id": "8362699d-61c9-43b4-93ce-fc0bf6416c9b",
   "metadata": {},
   "outputs": [],
   "source": [
    "tokens = word_tokenize(text)\n",
    "sentence_tokens = sent_tokenize(text)\n",
    "stop_words = set(stopwords.words('english'))"
   ]
  },
  {
   "cell_type": "markdown",
   "id": "fa56ef1d-afe3-49ca-a46b-32f38cb5d141",
   "metadata": {},
   "source": [
    "І також не забуваємо про знаки пунктуації"
   ]
  },
  {
   "cell_type": "code",
   "execution_count": 11,
   "id": "20e793f9-b2b5-4400-b1d4-c6f0e01eda4c",
   "metadata": {},
   "outputs": [],
   "source": [
    "punctuation = list(punctuation)\n",
    "punctuation = punctuation + ['\\n']"
   ]
  },
  {
   "cell_type": "markdown",
   "id": "64a9f2ea-d829-41b5-b8a2-f83ed4d7ebff",
   "metadata": {},
   "source": [
    "Також можна порахувати частоту появи тих чи інших слів у тексті(але варто пам'ятати, що це треба робити, вже виключивши усі знаки пунктуації)"
   ]
  },
  {
   "cell_type": "code",
   "execution_count": 13,
   "id": "79fa81b9-71a9-4b6d-a6b4-b2b003b503a7",
   "metadata": {},
   "outputs": [],
   "source": [
    "word_frequencies = {}\n",
    "for word in doc:\n",
    "  if word.text.lower() not in stop_words:\n",
    "    if word.text.lower() not in punctuation:\n",
    "      if word.text not in word_frequencies.keys():\n",
    "        word_frequencies[word.text] = 1\n",
    "      else:\n",
    "        word_frequencies[word.text] += 1"
   ]
  },
  {
   "cell_type": "markdown",
   "id": "e5ddfac3-ddde-40ac-b35f-d72f200f256f",
   "metadata": {},
   "source": [
    "Коли ми вже маємо підготовлений текст та використали SpaCy або NLTK для отримання необхідної інформації, ми можемо створити текстове резюме. Це можна зробити, наприклад, шляхом виділення найважливіших речень з тексту, враховуючи їх вагу або частоту вживання певних слів.\n",
    "\n",
    "Отже, відсортуємо речення по вазі, яка представляє з себе суму рейтингів слів у реченнях, де рейтинг слова - кількість випадків його появи у всьому тексті загалом:"
   ]
  },
  {
   "cell_type": "code",
   "execution_count": 15,
   "id": "1df41d4f-3078-42f4-b6ae-bf39ac04cbc4",
   "metadata": {},
   "outputs": [],
   "source": [
    "sentence_scores = {}\n",
    "for sentence in sentence_tokens:\n",
    "    word_tokens = word_tokenize(sentence)\n",
    "    sentence_scores[sentence] = 0\n",
    "    for word in word_tokens:\n",
    "        sentence_scores[sentence] += word_frequencies.get(word, 0)"
   ]
  },
  {
   "cell_type": "markdown",
   "id": "1717ef36-923c-442a-900e-84066099c198",
   "metadata": {},
   "source": [
    "Бібліотека heapq є частиною стандартної бібліотеки Python і надає функціонал для роботи зі структурами даних під назвою heap. Один з імпортованих об’єктів у цій бібліотеці - nlargest - є функцією, яка дозволяє знаходити найбільші елементи з ітерабельного об’єкту.\n",
    "\n",
    "Функція nlargest(n, iterable, key=None) приймає три аргументи: n - це кількість найбільших елементів, які ви хочете отримати iterable - це ітерабельний об’єкт, з якого ви хочете вибрати найбільші елементи key (необов’язковий) - це функція, яка визначає, за яким ключем відбувається порівняння елементів (наприклад, key=str.lower).\n",
    "\n",
    "Функція nlargest повертає список з n найбільших елементів з iterable. Ці елементи будуть впорядковані у порядку спадання. Якщо n більше довжини iterable, то функція поверне весь iterable у відсортованому порядку.\n",
    "\n",
    "Отже, імпортований from heapq import nlargest дозволяє використовувати функцію nlargest для знаходження найбільших елементів з довільного ітерабельного об’єкту.\n",
    "\n",
    "У нашому випадку виділимо три речення з найбільшою вагою та відсортуємо їх у порядку появи у тексті. Це й буде шуканим summary нашого тексту:"
   ]
  },
  {
   "cell_type": "code",
   "execution_count": 17,
   "id": "7dae4ed8-7fc0-4c67-a2e7-e8ee5d8a3f2f",
   "metadata": {},
   "outputs": [
    {
     "data": {
      "text/plain": [
       "'The Orbiter Discovery, OV-103, is considered eligible for listing in the National Register of Historic Places (NRHP) in the context of the U.S. Space Shuttle Program (1969-2011) under Criterion A in the areas of Space Exploration and Transportation and under Criterion C in the area of Engineering. Under Criterion A, Discovery is significant as the oldest of the three extant orbiter vehicles constructed for the Space Shuttle Program (SSP), the longest running American space program to date; she was the third of five orbiters built by NASA. According to Wayne Hale, a flight director from Johnson Space Center, the Space Shuttle orbiter represents a “huge technological leap from expendable rockets and capsules to a reusable, winged, hypersonic, cargo-carrying spacecraft.” Although her base structure followed a conventional aircraft design, she used advanced materials that both minimized her weight for cargo-carrying purposes and featured low thermal expansion ratios, which provided a stable base for her Thermal Protection System (TPS) materials.'"
      ]
     },
     "execution_count": 17,
     "metadata": {},
     "output_type": "execute_result"
    }
   ],
   "source": [
    "select_length = 3#int(len(sentence_tokens))\n",
    "tmp = nlargest(select_length, sentence_scores, key = sentence_scores.get)\n",
    "summary = []\n",
    "for sentence in sentence_tokens:\n",
    "    if sentence in tmp:\n",
    "        summary.append(sentence)\n",
    "        tmp.remove(sentence)\n",
    "        if not tmp:\n",
    "            break\n",
    "summary = \" \".join(summary)\n",
    "summary"
   ]
  },
  {
   "cell_type": "markdown",
   "id": "734584cd-5939-4f60-ae7b-cde504234641",
   "metadata": {},
   "source": [
    "**Висновок**\n",
    "  \n",
    "У цьому завданні нам успішно вдалося виділити summary заданого тексту, використовуючи бібліотеки для NLP: nltk та SpaCy."
   ]
  }
 ],
 "metadata": {
  "kernelspec": {
   "display_name": "Python (myenv)",
   "language": "python",
   "name": "myenv"
  },
  "language_info": {
   "codemirror_mode": {
    "name": "ipython",
    "version": 3
   },
   "file_extension": ".py",
   "mimetype": "text/x-python",
   "name": "python",
   "nbconvert_exporter": "python",
   "pygments_lexer": "ipython3",
   "version": "3.12.9"
  }
 },
 "nbformat": 4,
 "nbformat_minor": 5
}
