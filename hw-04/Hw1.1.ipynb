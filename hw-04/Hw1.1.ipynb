{
 "cells": [
  {
   "cell_type": "code",
   "execution_count": 244,
   "id": "ce64e422-cc73-484f-8ec4-e1be2f520875",
   "metadata": {},
   "outputs": [
    {
     "name": "stdout",
     "output_type": "stream",
     "text": [
      "1. [ 1  2  3  4  5  6  7  8  9 10]\n"
     ]
    }
   ],
   "source": [
    "import numpy as np\n",
    "\n",
    "a = np.array([1, 2, 3, 4, 5, 6, 7, 8, 9, 10], dtype=int)\n",
    "print(f'1. {a}')"
   ]
  },
  {
   "cell_type": "code",
   "execution_count": 246,
   "id": "1c42653e-f3ce-4a7a-b07c-200c1ba3388d",
   "metadata": {},
   "outputs": [
    {
     "name": "stdout",
     "output_type": "stream",
     "text": [
      "2. [[0 0 0]\n",
      " [0 0 0]\n",
      " [0 0 0]]\n"
     ]
    }
   ],
   "source": [
    "b = np.zeros((3, 3), dtype=int)\n",
    "print(f'2. {b}')"
   ]
  },
  {
   "cell_type": "code",
   "execution_count": 248,
   "id": "1399a298-ecbc-4e8a-a963-698aab66cafb",
   "metadata": {
    "scrolled": true
   },
   "outputs": [
    {
     "name": "stdout",
     "output_type": "stream",
     "text": [
      "3. [[1 7 6 1 9]\n",
      " [2 3 2 4 2]\n",
      " [4 8 5 9 5]\n",
      " [3 8 8 8 9]\n",
      " [1 5 3 3 3]]\n"
     ]
    }
   ],
   "source": [
    "rng = np.random.default_rng(123)\n",
    "c = rng.integers(low=1, high=10, size=[5, 5])\n",
    "print(f'3. {c}')"
   ]
  },
  {
   "cell_type": "code",
   "execution_count": 250,
   "id": "863f7f40-fa78-4a0e-a130-28a7278ad799",
   "metadata": {},
   "outputs": [
    {
     "name": "stdout",
     "output_type": "stream",
     "text": [
      "4. [[0.59601738 0.40427912 0.46617495 0.42734892]\n",
      " [0.73051291 0.30904557 0.34905994 0.35029707]\n",
      " [0.76557633 0.85593609 0.93422693 0.03097996]\n",
      " [0.33596277 0.51519398 0.14002983 0.56947883]]\n"
     ]
    }
   ],
   "source": [
    "d = np.random.random((4, 4))\n",
    "print(f'4. {d}')"
   ]
  },
  {
   "cell_type": "code",
   "execution_count": 252,
   "id": "b9e038b5-6a68-47a0-9e00-3697c9b4fcf6",
   "metadata": {},
   "outputs": [
    {
     "name": "stdout",
     "output_type": "stream",
     "text": [
      "5. e = [8 8 2 4 7]\n",
      "5. f = [2 6 4 9 7]\n",
      "5. e + f = [10 14  6 13 14]\n",
      "5. e - f = [ 6  2 -2 -5  0]\n",
      "5. e * f = [16 48  8 36 49]\n"
     ]
    }
   ],
   "source": [
    "e = rng.integers(low=1, high=10, size=5)\n",
    "f = rng.integers(low=1, high=10, size=5)\n",
    "print(f'5. e = {e}')\n",
    "print(f'5. f = {f}')\n",
    "print(f'5. e + f = {e+f}')\n",
    "print(f'5. e - f = {e-f}')\n",
    "print(f'5. e * f = {e*f}')"
   ]
  },
  {
   "cell_type": "code",
   "execution_count": 254,
   "id": "2d4bcc59-0610-4b5c-ab36-0118c60fd046",
   "metadata": {},
   "outputs": [
    {
     "name": "stdout",
     "output_type": "stream",
     "text": [
      "6. g = [0.27395143 0.29786239 0.70342868 0.8721752  0.04686395 0.44659695\n",
      " 0.01327234]\n",
      "6. h = [0.84598085 0.1861877  0.65787559 0.10920209 0.50956351 0.99709474\n",
      " 0.36287927]\n",
      "6. gh = 1.3192237667906106\n"
     ]
    }
   ],
   "source": [
    "g = np.random.random(7)\n",
    "h = np.random.random(7)\n",
    "gh = np.dot(g, h)\n",
    "print(f'6. g = {g}')\n",
    "print(f'6. h = {h}')\n",
    "print(f'6. gh = {gh}')"
   ]
  },
  {
   "cell_type": "code",
   "execution_count": 258,
   "id": "25160e53-4af8-4aee-85b3-6ec428c7053c",
   "metadata": {},
   "outputs": [
    {
     "name": "stdout",
     "output_type": "stream",
     "text": [
      "7. j = [[3 8]\n",
      " [8 2]]\n",
      "7. k = [[5 8 3]\n",
      " [3 2 1]]\n",
      "7. jk = [[39 40 17]\n",
      " [46 68 26]]\n"
     ]
    }
   ],
   "source": [
    "j = rng.integers(low=1, high=10, size=[2, 2])\n",
    "k = rng.integers(low=1, high=10, size=[2, 3])\n",
    "print(f'7. j = {j}')\n",
    "print(f'7. k = {k}')\n",
    "jk = np.dot(j, k)\n",
    "print(f'7. jk = {jk}')"
   ]
  },
  {
   "cell_type": "code",
   "execution_count": 260,
   "id": "a30955fd-a246-48ea-957c-3ac4429fddcf",
   "metadata": {},
   "outputs": [
    {
     "name": "stdout",
     "output_type": "stream",
     "text": [
      "8. l = [[5 1 6]\n",
      " [4 2 4]\n",
      " [1 2 5]]\n",
      "8. lt = [[5 4 1]\n",
      " [1 2 2]\n",
      " [6 4 5]]\n"
     ]
    }
   ],
   "source": [
    "l = rng.integers(low=1, high=10, size=[3, 3])\n",
    "print(f'8. l = {l}')\n",
    "lt = l.T\n",
    "print(f'8. lt = {lt}')"
   ]
  },
  {
   "cell_type": "code",
   "execution_count": 262,
   "id": "f7270bd4-ffd0-4064-aa6b-2f6d83f582a8",
   "metadata": {},
   "outputs": [
    {
     "name": "stdout",
     "output_type": "stream",
     "text": [
      "9. m = [[0.67984    0.98935098 0.03054429 0.19616457]\n",
      " [0.41409212 0.37623697 0.86708555 0.7480667 ]\n",
      " [0.87524755 0.78084044 0.94053369 0.48720319]\n",
      " [0.0550338  0.57221543 0.62117415 0.11464171]]\n",
      "9. mt = [[0.67984    0.41409212 0.87524755 0.0550338 ]\n",
      " [0.98935098 0.37623697 0.78084044 0.57221543]\n",
      " [0.03054429 0.86708555 0.94053369 0.62117415]\n",
      " [0.19616457 0.7480667  0.48720319 0.11464171]]\n"
     ]
    }
   ],
   "source": [
    "m = np.random.random((4, 4))\n",
    "print(f'9. m = {m}')\n",
    "mt = m.T\n",
    "print(f'9. mt = {mt}')"
   ]
  },
  {
   "cell_type": "code",
   "execution_count": 264,
   "id": "3a1b8cff-f0a2-4f75-a563-d4c163d13621",
   "metadata": {},
   "outputs": [
    {
     "name": "stdout",
     "output_type": "stream",
     "text": [
      "10. n = [[1 7 3 9]\n",
      " [2 6 5 9]\n",
      " [6 8 5 2]]\n",
      "10. o = [2 8 2 7]\n",
      "10. n*o = [[ 2 56  6 63]\n",
      " [ 4 48 10 63]\n",
      " [12 64 10 14]]\n"
     ]
    }
   ],
   "source": [
    "n = rng.integers(low=1, high=10, size=[3, 4])\n",
    "o = rng.integers(low=1, high=10, size=4)\n",
    "print(f'10. n = {n}')\n",
    "print(f'10. o = {o}')\n",
    "print(f'10. n*o = {n*o}')"
   ]
  },
  {
   "cell_type": "code",
   "execution_count": 266,
   "id": "53ba8fb1-f2ad-493f-9817-367ee796dc19",
   "metadata": {},
   "outputs": [
    {
     "name": "stdout",
     "output_type": "stream",
     "text": [
      "11. p = [[0.63052111 0.9877574  0.11812914]\n",
      " [0.41531051 0.28758545 0.46775518]]\n",
      "11. q = [0.40983329 0.76435375 0.91069102]\n",
      "11. p*q = [[0.25840854 0.75499607 0.10757914]\n",
      " [0.17020808 0.21981701 0.42598044]]\n"
     ]
    }
   ],
   "source": [
    "p = np.random.random((2, 3))\n",
    "q = np.random.random(3)\n",
    "print(f'11. p = {p}')\n",
    "print(f'11. q = {q}')\n",
    "print(f'11. p*q = {p*q}')"
   ]
  },
  {
   "cell_type": "code",
   "execution_count": 268,
   "id": "168c126f-56fb-4eea-93e0-f11d90147bc8",
   "metadata": {},
   "outputs": [
    {
     "name": "stdout",
     "output_type": "stream",
     "text": [
      "12. r = [[5 3]\n",
      " [4 8]]\n",
      "12. s = [[5 8]\n",
      " [9 3]]\n",
      "12. r*s = [[25 24]\n",
      " [36 24]]\n"
     ]
    }
   ],
   "source": [
    "r = rng.integers(low=1, high=10, size=[2, 2])\n",
    "s = rng.integers(low=1, high=10, size=[2, 2])\n",
    "print(f'12. r = {r}')\n",
    "print(f'12. s = {s}')\n",
    "print(f'12. r*s = {r*s}')"
   ]
  },
  {
   "cell_type": "code",
   "execution_count": 270,
   "id": "5614daa7-abe6-41c4-9c89-7756826d2fee",
   "metadata": {},
   "outputs": [
    {
     "name": "stdout",
     "output_type": "stream",
     "text": [
      "13. t = [[5 5]\n",
      " [5 1]]\n",
      "13. u = [[4 6]\n",
      " [9 3]]\n",
      "13. tu = [[65 45]\n",
      " [29 33]]\n"
     ]
    }
   ],
   "source": [
    "t = rng.integers(low=1, high=10, size=[2, 2])\n",
    "u = rng.integers(low=1, high=10, size=[2, 2])\n",
    "tu = np.dot(t, u)\n",
    "print(f'13. t = {t}')\n",
    "print(f'13. u = {u}')\n",
    "print(f'13. tu = {tu}')\n"
   ]
  },
  {
   "cell_type": "code",
   "execution_count": 272,
   "id": "cd0d949f-067b-4c36-986f-bc7ca8ec81f4",
   "metadata": {},
   "outputs": [
    {
     "name": "stdout",
     "output_type": "stream",
     "text": [
      "14. v = [[64 76 92 18 67]\n",
      " [31 44  2 72  4]\n",
      " [38 50 67 47 84]\n",
      " [13 26 26 38  1]\n",
      " [43 38 58 58 28]]\n",
      "14. v.sum() = 1085\n"
     ]
    }
   ],
   "source": [
    "v = rng.integers(low=1, high=100, size=[5, 5])\n",
    "print(f'14. v = {v}')\n",
    "v = v.sum()\n",
    "print(f'14. v.sum() = {v}')"
   ]
  },
  {
   "cell_type": "code",
   "execution_count": 274,
   "id": "ca34ca88-4d92-4037-a94f-c1d873a52228",
   "metadata": {},
   "outputs": [
    {
     "name": "stdout",
     "output_type": "stream",
     "text": [
      "15. w = [[4 5 8 1]\n",
      " [6 1 3 4]\n",
      " [8 4 5 6]\n",
      " [7 4 6 8]]\n",
      "15. x = [[4 9 4 4]\n",
      " [1 5 5 4]\n",
      " [6 5 9 4]\n",
      " [4 8 5 3]]\n",
      "15. w-x = [[ 0 -4  4 -3]\n",
      " [ 5 -4 -2  0]\n",
      " [ 2 -1 -4  2]\n",
      " [ 3 -4  1  5]]\n"
     ]
    }
   ],
   "source": [
    "w = rng.integers(low=1, high=10, size=[4, 4])\n",
    "x = rng.integers(low=1, high=10, size=[4, 4])\n",
    "print(f'15. w = {w}')\n",
    "print(f'15. x = {x}')\n",
    "print(f'15. w-x = {w-x}')"
   ]
  },
  {
   "cell_type": "code",
   "execution_count": 276,
   "id": "43fc10f1-844d-420b-a32a-d7eef02636b6",
   "metadata": {},
   "outputs": [
    {
     "name": "stdout",
     "output_type": "stream",
     "text": [
      "16. y = [[0.69697735 0.06000238 0.65528251]\n",
      " [0.53542467 0.70853381 0.3825798 ]\n",
      " [0.20208623 0.58749509 0.48116002]]\n",
      "16. z = [1.41226224 1.62653828 1.27074134]\n"
     ]
    }
   ],
   "source": [
    "y = np.random.random((3, 3))\n",
    "print(f'16. y = {y}')\n",
    "z = np.array((y[0].sum(), y[1].sum(), y[2].sum()))\n",
    "print(f'16. z = {z}')"
   ]
  },
  {
   "cell_type": "code",
   "execution_count": 278,
   "id": "6d3fe9c6-dda7-4b8b-8b90-31409f0e6b1b",
   "metadata": {},
   "outputs": [
    {
     "name": "stdout",
     "output_type": "stream",
     "text": [
      "17. aa = [[5 5 4 5]\n",
      " [6 9 1 9]\n",
      " [5 4 6 2]]\n",
      "17. ab = [[25 25 16 25]\n",
      " [36 81  1 81]\n",
      " [25 16 36  4]]\n"
     ]
    }
   ],
   "source": [
    "aa = rng.integers(low=1, high=10, size=[3, 4])\n",
    "print(f'17. aa = {aa}')\n",
    "ab = aa.copy()**2\n",
    "print(f'17. ab = {ab}')"
   ]
  },
  {
   "cell_type": "code",
   "execution_count": 280,
   "id": "79f47fde-3eb1-4f36-9b9f-f5f06bc88b2c",
   "metadata": {},
   "outputs": [
    {
     "name": "stdout",
     "output_type": "stream",
     "text": [
      "18. ac = [37  5 22 10]\n",
      "18. ad = [6.08276253 2.23606798 4.69041576 3.16227766]\n"
     ]
    }
   ],
   "source": [
    "ac = rng.integers(low=1, high=50, size=4)\n",
    "print(f'18. ac = {ac}')\n",
    "ad = np.sqrt(ac)\n",
    "print(f'18. ad = {ad}')"
   ]
  },
  {
   "cell_type": "code",
   "execution_count": null,
   "id": "95d8785b-83e8-4f9f-b7e2-c4ad841649c3",
   "metadata": {
    "editable": true,
    "slideshow": {
     "slide_type": ""
    },
    "tags": []
   },
   "outputs": [],
   "source": []
  }
 ],
 "metadata": {
  "kernelspec": {
   "display_name": "Python 3 (ipykernel)",
   "language": "python",
   "name": "python3"
  },
  "language_info": {
   "codemirror_mode": {
    "name": "ipython",
    "version": 3
   },
   "file_extension": ".py",
   "mimetype": "text/x-python",
   "name": "python",
   "nbconvert_exporter": "python",
   "pygments_lexer": "ipython3",
   "version": "3.12.4"
  }
 },
 "nbformat": 4,
 "nbformat_minor": 5
}
