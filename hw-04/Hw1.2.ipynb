{
 "cells": [
  {
   "cell_type": "code",
   "execution_count": 33,
   "id": "5b43cfb6-a42f-45ae-9385-91c079a24f2e",
   "metadata": {},
   "outputs": [
    {
     "name": "stdout",
     "output_type": "stream",
     "text": [
      "1. [ 0 -1  2 -1  4 -1  6 -1  8 -1]\n"
     ]
    }
   ],
   "source": [
    "import numpy as np\n",
    "\n",
    "arr = np.array([0, 1, 2, 3, 4, 5, 6, 7, 8, 9])\n",
    "\n",
    "for el in range(len(arr)):\n",
    "    if arr[el] % 2 != 0:\n",
    "        arr[el] = -1\n",
    "print(f'1. {arr}')"
   ]
  },
  {
   "cell_type": "code",
   "execution_count": 37,
   "id": "842a173d-fec0-492b-9c41-9da2c3b968ef",
   "metadata": {},
   "outputs": [
    {
     "name": "stdout",
     "output_type": "stream",
     "text": [
      "2. arr_1d = [1 2 3 4 5 6]\n",
      "2. arr_2d = [[1 2 3]\n",
      " [4 5 6]]\n"
     ]
    }
   ],
   "source": [
    "arr_1d = np.array([1, 2, 3, 4, 5, 6])\n",
    "arr_2d = arr_1d.reshape(2, -1)\n",
    "print(f'2. arr_1d = {arr_1d}')\n",
    "print(f'2. arr_2d = {arr_2d}')"
   ]
  },
  {
   "cell_type": "code",
   "execution_count": 53,
   "id": "5dc37924-ad10-41d5-9ec4-e06ea64a6c7b",
   "metadata": {},
   "outputs": [
    {
     "name": "stdout",
     "output_type": "stream",
     "text": [
      "3. [[1 2 3]\n",
      " [4 5 6]\n",
      " [4 5 6]\n",
      " [7 8 9]]\n"
     ]
    }
   ],
   "source": [
    "a = np.array([[1, 2, 3], [4, 5, 6]])\n",
    "b = np.array([[4, 5, 6], [7, 8, 9]])\n",
    "ab = np.vstack((a, b))\n",
    "print(f'3. {ab}')"
   ]
  },
  {
   "cell_type": "code",
   "execution_count": 57,
   "id": "8b2ebc2e-5e88-48b0-ac08-9222c0bce324",
   "metadata": {},
   "outputs": [
    {
     "name": "stdout",
     "output_type": "stream",
     "text": [
      "4. Output: [1 1 1 2 2 2 3 3 3 1 2 3 1 2 3 1 2 3]\n"
     ]
    }
   ],
   "source": [
    "a = np.array([1,2,3])\n",
    "repeated = np.repeat(a, 3)\n",
    "tiled = np.tile(a, 3)\n",
    "output = np.concatenate((repeated, tiled))\n",
    "print(f'4. Output: {output}')"
   ]
  },
  {
   "cell_type": "code",
   "execution_count": 59,
   "id": "5c82b5c9-968d-400c-bd81-79c6c524cd94",
   "metadata": {},
   "outputs": [
    {
     "name": "stdout",
     "output_type": "stream",
     "text": [
      "5. [2 4]\n"
     ]
    }
   ],
   "source": [
    "a = np.array([1,2,3,2,3,4,3,4,5,6])\n",
    "b = np.array([7,2,10,2,7,4,9,4,9,8])\n",
    "\n",
    "intersected = np.intersect1d(a, b)\n",
    "\n",
    "print(f'5. {intersected}')"
   ]
  },
  {
   "cell_type": "code",
   "execution_count": 128,
   "id": "a2e80102-b4f7-4186-9062-3c8b3e7d138e",
   "metadata": {},
   "outputs": [
    {
     "name": "stdout",
     "output_type": "stream",
     "text": [
      "[27.62684215 14.64009987 21.80136195 42.39403048  1.23122395  6.95688692\n",
      " 33.86670515 41.466785    7.69862289 29.17957314 44.67477576 11.25090398\n",
      " 10.08108276  6.31046763 11.76517714 48.95256545 40.77247431  9.42510962\n",
      " 40.99501269 14.42961361]\n",
      "6. [15 10  3  7 18]\n"
     ]
    }
   ],
   "source": [
    "np.random.seed(100) \n",
    "a = np.random.uniform(1,50, 20)\n",
    "print(a)\n",
    "sorted_a = np.argsort(a)[-5:][::-1]\n",
    "\n",
    "print(f'6. {sorted_a}')"
   ]
  },
  {
   "cell_type": "code",
   "execution_count": 150,
   "id": "737f1669-da33-4c56-a643-597997c21627",
   "metadata": {},
   "outputs": [
    {
     "name": "stdout",
     "output_type": "stream",
     "text": [
      "[ 1.  2.  3. nan  5.  6.  7. nan]\n",
      "[1. 2. 3. 5. 6. 7.]\n"
     ]
    }
   ],
   "source": [
    "c=np.array([1,2,3,np.nan,5,6,7,np.nan])\n",
    "print(c)\n",
    "\n",
    "c_cleaned = c[~np.isnan(c)]\n",
    "print(f'7. {c_cleaned}')"
   ]
  },
  {
   "cell_type": "code",
   "execution_count": 152,
   "id": "fc3c6cf1-2cc1-46f1-8744-2c3f298d93a5",
   "metadata": {},
   "outputs": [
    {
     "name": "stdout",
     "output_type": "stream",
     "text": [
      "8. 6.708203932499369\n"
     ]
    }
   ],
   "source": [
    "a = np.array([1,2,3,4,5]) \n",
    "b = np.array([4,5,6,7,8])\n",
    "\n",
    "distance = np.linalg.norm(a - b)\n",
    "print(f'8. {distance}')"
   ]
  },
  {
   "cell_type": "code",
   "execution_count": 158,
   "id": "53739ce7-abf3-45af-b9b5-6989867d05ac",
   "metadata": {},
   "outputs": [
    {
     "name": "stdout",
     "output_type": "stream",
     "text": [
      "9. 8\n"
     ]
    }
   ],
   "source": [
    "x = np.array([1, 2, 1, 1, 3, 4, 3, 1, 1, 2, 1, 1, 2])\n",
    "indices_of_ones = np.where(x == 1)[0]\n",
    "fifth_occurrence_index = indices_of_ones[4]\n",
    "print(f'9. {fifth_occurrence_index}')"
   ]
  },
  {
   "cell_type": "code",
   "execution_count": 162,
   "id": "274a5d3e-3c56-4ca3-9542-f55863b75c9a",
   "metadata": {},
   "outputs": [
    {
     "name": "stdout",
     "output_type": "stream",
     "text": [
      "[0 0 3 0 2 4 2 2 2 2]\n",
      "10. [False  True False  True False False  True  True  True  True]\n"
     ]
    }
   ],
   "source": [
    "np.random.seed(100)\n",
    "a = np.random.randint(0, 5, 10)\n",
    "print(a)\n",
    "result = np.zeros_like(a, dtype=bool)\n",
    "counts = {}\n",
    "for i, val in enumerate(a):\n",
    "    if val in counts:\n",
    "        counts[val] += 1\n",
    "        result[i] = True\n",
    "    else:\n",
    "        counts[val] = 1\n",
    "\n",
    "print(f'10. {result}')"
   ]
  },
  {
   "cell_type": "code",
   "execution_count": null,
   "id": "46614f46-5c45-4395-9a2b-67e1ea8943e7",
   "metadata": {},
   "outputs": [],
   "source": []
  }
 ],
 "metadata": {
  "kernelspec": {
   "display_name": "Python 3 (ipykernel)",
   "language": "python",
   "name": "python3"
  },
  "language_info": {
   "codemirror_mode": {
    "name": "ipython",
    "version": 3
   },
   "file_extension": ".py",
   "mimetype": "text/x-python",
   "name": "python",
   "nbconvert_exporter": "python",
   "pygments_lexer": "ipython3",
   "version": "3.12.4"
  }
 },
 "nbformat": 4,
 "nbformat_minor": 5
}
