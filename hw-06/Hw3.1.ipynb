{
 "cells": [
  {
   "cell_type": "code",
   "execution_count": 1,
   "id": "7ca7aae8-12a6-4128-9693-9d34c7e981ee",
   "metadata": {},
   "outputs": [],
   "source": [
    "import numpy as np\n",
    "import pandas as pd\n",
    "import matplotlib.pyplot as plt\n",
    "import seaborn as sns\n",
    "\n",
    "%matplotlib inline"
   ]
  },
  {
   "cell_type": "markdown",
   "id": "14873c31-f6f7-44c1-a25e-7f09ec0913be",
   "metadata": {},
   "source": [
    "напишіть функцію гіпотези лінійної регресії у векторному вигляді;"
   ]
  },
  {
   "cell_type": "code",
   "execution_count": 2,
   "id": "11850194-b6b5-4791-8220-e75f8626aa37",
   "metadata": {},
   "outputs": [],
   "source": [
    "def lin_reg_func(w, x):\n",
    "    return x.dot(w)"
   ]
  },
  {
   "cell_type": "markdown",
   "id": "58d8de2e-fc8a-4150-92c1-d9da8b98293a",
   "metadata": {},
   "source": [
    "створіть функцію для обчислення функції втрат у векторному вигляді;"
   ]
  },
  {
   "cell_type": "code",
   "execution_count": 3,
   "id": "2f1df82a-7790-4fe3-85f7-4a33ea4cd19c",
   "metadata": {},
   "outputs": [],
   "source": [
    "def loss_func(h, y):\n",
    "    loss = (h - y) ** 2 / (2 * y.shape[0])\n",
    "    loss = loss.sum() ** (1/2)\n",
    "    return loss.values"
   ]
  },
  {
   "cell_type": "markdown",
   "id": "fd2e15b7-434d-46be-a9ba-0c9bd4bd1bab",
   "metadata": {},
   "source": [
    "реалізуйте один крок градієнтного спуску;"
   ]
  },
  {
   "cell_type": "code",
   "execution_count": 7,
   "id": "b86f204f-6fa6-453e-9ffb-4d46ec9c3ed1",
   "metadata": {},
   "outputs": [],
   "source": [
    "data = pd.read_csv(\"Housing.csv\")"
   ]
  },
  {
   "cell_type": "code",
   "execution_count": 9,
   "id": "1513e6f4-d452-4adf-9a2c-d78fa6b01936",
   "metadata": {},
   "outputs": [],
   "source": [
    "m = data.shape[0]\n",
    "x = data[[\"area\", \"bathrooms\", \"bedrooms\"]].astype(float)\n",
    "x.insert(0, \"x_0\", np.ones(m))\n",
    "y = pd.DataFrame(data[\"price\"].values.astype(float))\n",
    "w_prev = pd.DataFrame(np.random.randint(-1e6, 1e6, size=(x.shape[1])), index=x.columns, dtype=float)\n",
    "LEARNING_RATE = 1e-8\n",
    "x_t = x.T\n",
    "J = x_t.dot(x.dot(w_prev) - y) / m\n",
    "w = w_prev - LEARNING_RATE * J"
   ]
  },
  {
   "cell_type": "markdown",
   "id": "a3a80020-c3d7-4ba0-b9dd-6a35caf39c2e",
   "metadata": {},
   "source": [
    "Початкові параметри:"
   ]
  },
  {
   "cell_type": "code",
   "execution_count": 11,
   "id": "03a36236-4ee7-431d-b4f7-4943a4480eb1",
   "metadata": {},
   "outputs": [
    {
     "data": {
      "text/html": [
       "<div>\n",
       "<style scoped>\n",
       "    .dataframe tbody tr th:only-of-type {\n",
       "        vertical-align: middle;\n",
       "    }\n",
       "\n",
       "    .dataframe tbody tr th {\n",
       "        vertical-align: top;\n",
       "    }\n",
       "\n",
       "    .dataframe thead th {\n",
       "        text-align: right;\n",
       "    }\n",
       "</style>\n",
       "<table border=\"1\" class=\"dataframe\">\n",
       "  <thead>\n",
       "    <tr style=\"text-align: right;\">\n",
       "      <th></th>\n",
       "      <th>0</th>\n",
       "    </tr>\n",
       "  </thead>\n",
       "  <tbody>\n",
       "    <tr>\n",
       "      <th>x_0</th>\n",
       "      <td>816827.0</td>\n",
       "    </tr>\n",
       "    <tr>\n",
       "      <th>area</th>\n",
       "      <td>-272363.0</td>\n",
       "    </tr>\n",
       "    <tr>\n",
       "      <th>bathrooms</th>\n",
       "      <td>494682.0</td>\n",
       "    </tr>\n",
       "    <tr>\n",
       "      <th>bedrooms</th>\n",
       "      <td>-835487.0</td>\n",
       "    </tr>\n",
       "  </tbody>\n",
       "</table>\n",
       "</div>"
      ],
      "text/plain": [
       "                  0\n",
       "x_0        816827.0\n",
       "area      -272363.0\n",
       "bathrooms  494682.0\n",
       "bedrooms  -835487.0"
      ]
     },
     "execution_count": 11,
     "metadata": {},
     "output_type": "execute_result"
    }
   ],
   "source": [
    "w_prev"
   ]
  },
  {
   "cell_type": "markdown",
   "id": "09f16470-e245-4801-b795-04622d02d1c9",
   "metadata": {},
   "source": [
    "Параметри після одного кроку:"
   ]
  },
  {
   "cell_type": "code",
   "execution_count": 13,
   "id": "6a7c766e-18a9-4c83-b42a-52439ccf0d72",
   "metadata": {},
   "outputs": [
    {
     "data": {
      "text/html": [
       "<div>\n",
       "<style scoped>\n",
       "    .dataframe tbody tr th:only-of-type {\n",
       "        vertical-align: middle;\n",
       "    }\n",
       "\n",
       "    .dataframe tbody tr th {\n",
       "        vertical-align: top;\n",
       "    }\n",
       "\n",
       "    .dataframe thead th {\n",
       "        text-align: right;\n",
       "    }\n",
       "</style>\n",
       "<table border=\"1\" class=\"dataframe\">\n",
       "  <thead>\n",
       "    <tr style=\"text-align: right;\">\n",
       "      <th></th>\n",
       "      <th>0</th>\n",
       "    </tr>\n",
       "  </thead>\n",
       "  <tbody>\n",
       "    <tr>\n",
       "      <th>x_0</th>\n",
       "      <td>816841.086078</td>\n",
       "    </tr>\n",
       "    <tr>\n",
       "      <th>area</th>\n",
       "      <td>-186985.937712</td>\n",
       "    </tr>\n",
       "    <tr>\n",
       "      <th>bathrooms</th>\n",
       "      <td>494700.697395</td>\n",
       "    </tr>\n",
       "    <tr>\n",
       "      <th>bedrooms</th>\n",
       "      <td>-835444.562672</td>\n",
       "    </tr>\n",
       "  </tbody>\n",
       "</table>\n",
       "</div>"
      ],
      "text/plain": [
       "                       0\n",
       "x_0        816841.086078\n",
       "area      -186985.937712\n",
       "bathrooms  494700.697395\n",
       "bedrooms  -835444.562672"
      ]
     },
     "execution_count": 13,
     "metadata": {},
     "output_type": "execute_result"
    }
   ],
   "source": [
    "w"
   ]
  },
  {
   "cell_type": "markdown",
   "id": "d79d5689-2fce-4de5-805a-8f574cb7a1d3",
   "metadata": {
    "editable": true,
    "slideshow": {
     "slide_type": ""
    },
    "tags": []
   },
   "source": [
    "знайдіть найкращі параметри $\\vec{w}$ для датасету прогнозуючу ціну на будинок залежно від площі, кількості ванних кімнат та кількості спалень;"
   ]
  },
  {
   "cell_type": "code",
   "execution_count": 15,
   "id": "1fbbb317-5aa9-4365-b9f2-94e901c7a626",
   "metadata": {
    "editable": true,
    "slideshow": {
     "slide_type": ""
    },
    "tags": []
   },
   "outputs": [],
   "source": [
    "def grad_descent(w, x, y, num_iter, learning_rate, epsilon = 1e-8):\n",
    "\n",
    "    m = x.shape[0]\n",
    "    x_t = x.T\n",
    "    loss = loss_func(lin_reg_func(w, x), y)\n",
    "    loss_history = [loss]\n",
    "\n",
    "    for i in range(num_iter):\n",
    "      J = x_t.dot(x.dot(w) - y) / m\n",
    "      w = w - learning_rate * J\n",
    "      loss = loss_func(lin_reg_func(w, x), y)\n",
    "      loss_history.append(loss)\n",
    "      if abs(loss - loss_history[-2]) / loss < epsilon:\n",
    "        break\n",
    "\n",
    "    return w, i, loss_history"
   ]
  },
  {
   "cell_type": "markdown",
   "id": "b8521cba-9ae7-48a8-9d12-6307430bcbb6",
   "metadata": {},
   "source": [
    "Початкові параметри:"
   ]
  },
  {
   "cell_type": "code",
   "execution_count": 17,
   "id": "d6d01a82-5619-47f1-bad0-56519daabec2",
   "metadata": {},
   "outputs": [
    {
     "data": {
      "text/html": [
       "<div>\n",
       "<style scoped>\n",
       "    .dataframe tbody tr th:only-of-type {\n",
       "        vertical-align: middle;\n",
       "    }\n",
       "\n",
       "    .dataframe tbody tr th {\n",
       "        vertical-align: top;\n",
       "    }\n",
       "\n",
       "    .dataframe thead th {\n",
       "        text-align: right;\n",
       "    }\n",
       "</style>\n",
       "<table border=\"1\" class=\"dataframe\">\n",
       "  <thead>\n",
       "    <tr style=\"text-align: right;\">\n",
       "      <th></th>\n",
       "      <th>0</th>\n",
       "    </tr>\n",
       "  </thead>\n",
       "  <tbody>\n",
       "    <tr>\n",
       "      <th>x_0</th>\n",
       "      <td>1000.0</td>\n",
       "    </tr>\n",
       "    <tr>\n",
       "      <th>area</th>\n",
       "      <td>1000.0</td>\n",
       "    </tr>\n",
       "    <tr>\n",
       "      <th>bathrooms</th>\n",
       "      <td>1000.0</td>\n",
       "    </tr>\n",
       "    <tr>\n",
       "      <th>bedrooms</th>\n",
       "      <td>1000.0</td>\n",
       "    </tr>\n",
       "  </tbody>\n",
       "</table>\n",
       "</div>"
      ],
      "text/plain": [
       "                0\n",
       "x_0        1000.0\n",
       "area       1000.0\n",
       "bathrooms  1000.0\n",
       "bedrooms   1000.0"
      ]
     },
     "execution_count": 17,
     "metadata": {},
     "output_type": "execute_result"
    }
   ],
   "source": [
    "w = pd.DataFrame(1e3 * np.ones(x.shape[1]), index=x.columns, dtype=float)\n",
    "w"
   ]
  },
  {
   "cell_type": "code",
   "execution_count": 19,
   "id": "397fb146-a8e2-4329-a374-c199eaaffa8d",
   "metadata": {},
   "outputs": [],
   "source": [
    "w, i, loss_history = grad_descent(w, x, y, 10000, learning_rate = 1e-9)"
   ]
  },
  {
   "cell_type": "markdown",
   "id": "874289ec-7c1c-42f2-a475-f27f573a5c04",
   "metadata": {},
   "source": [
    "Оптимізовані параметри:"
   ]
  },
  {
   "cell_type": "code",
   "execution_count": 21,
   "id": "8de85f8a-005e-4b84-9813-f4829b822dd3",
   "metadata": {},
   "outputs": [
    {
     "data": {
      "text/html": [
       "<div>\n",
       "<style scoped>\n",
       "    .dataframe tbody tr th:only-of-type {\n",
       "        vertical-align: middle;\n",
       "    }\n",
       "\n",
       "    .dataframe tbody tr th {\n",
       "        vertical-align: top;\n",
       "    }\n",
       "\n",
       "    .dataframe thead th {\n",
       "        text-align: right;\n",
       "    }\n",
       "</style>\n",
       "<table border=\"1\" class=\"dataframe\">\n",
       "  <thead>\n",
       "    <tr style=\"text-align: right;\">\n",
       "      <th></th>\n",
       "      <th>0</th>\n",
       "    </tr>\n",
       "  </thead>\n",
       "  <tbody>\n",
       "    <tr>\n",
       "      <th>x_0</th>\n",
       "      <td>1000.052476</td>\n",
       "    </tr>\n",
       "    <tr>\n",
       "      <th>area</th>\n",
       "      <td>854.997851</td>\n",
       "    </tr>\n",
       "    <tr>\n",
       "      <th>bathrooms</th>\n",
       "      <td>1000.131438</td>\n",
       "    </tr>\n",
       "    <tr>\n",
       "      <th>bedrooms</th>\n",
       "      <td>1000.217689</td>\n",
       "    </tr>\n",
       "  </tbody>\n",
       "</table>\n",
       "</div>"
      ],
      "text/plain": [
       "                     0\n",
       "x_0        1000.052476\n",
       "area        854.997851\n",
       "bathrooms  1000.131438\n",
       "bedrooms   1000.217689"
      ]
     },
     "execution_count": 21,
     "metadata": {},
     "output_type": "execute_result"
    }
   ],
   "source": [
    "w"
   ]
  },
  {
   "cell_type": "markdown",
   "id": "40ea329a-39ba-455f-8c82-1b44f031ed18",
   "metadata": {},
   "source": [
    "Кількість ітерацій та остаточне значення функції втрат:"
   ]
  },
  {
   "cell_type": "code",
   "execution_count": 23,
   "id": "97a2cb58-4a21-4cc9-b3b7-081ce843a007",
   "metadata": {},
   "outputs": [
    {
     "data": {
      "text/plain": [
       "(212, 1292631.0092073057)"
      ]
     },
     "execution_count": 23,
     "metadata": {},
     "output_type": "execute_result"
    }
   ],
   "source": [
    "i, loss_history[-1][0]"
   ]
  },
  {
   "cell_type": "code",
   "execution_count": 25,
   "id": "235c2935-ddbd-4d01-883d-376ef3d05cd8",
   "metadata": {},
   "outputs": [
    {
     "data": {
      "image/png": "[encoded data removed]",
      "text/plain": [
       "<Figure size 640x480 with 1 Axes>"
      ]
     },
     "metadata": {},
     "output_type": "display_data"
    }
   ],
   "source": [
    "xx = pd.DataFrame(np.arange(-1e3, 2e3, 1e1))\n",
    "ww = pd.DataFrame([w[0] for i in range(xx.shape[0])])\n",
    "ww[\"area\"] = xx.values\n",
    "ww = ww.T\n",
    "ll = loss_func(lin_reg_func(ww, x), y)\n",
    "plt.plot(xx, ll, label='day temperature')\n",
    "plt.xlabel('Coefficient w_1 (at \"area\" feature)', fontsize='small', color='midnightblue')\n",
    "plt.ylabel('Loss value', fontsize='small', color='midnightblue')\n",
    "plt.title('Loss value depending on \"area\" coefficient', fontsize=15)\n",
    "plt.show()"
   ]
  },
  {
   "cell_type": "markdown",
   "id": "8479b2b5-443b-4608-8f97-d0df73c80e79",
   "metadata": {},
   "source": [
    "Як видно з результату роботи алгоритму градієнтного спуску усі коефіцієнти моделі, крім коефіцієнта при змінній, що відповідає площі будинка, майже не змінилися в процесі його роботи, хоча й нам вдалося досягти локального мінімуму функції втрат. Це видно з графіка вище, де по осі X відкладені різні значення коефіцієнта при змінній, що відповідає площі будинка, при зафіксованих інших коефіцієнтах, а по осі Y значення функції втрат (середнє квадратичне по всім семплам) для данного сету коефіцієнтів."
   ]
  },
  {
   "cell_type": "markdown",
   "id": "5eed4d38-78aa-44c7-b47d-fa69acd14112",
   "metadata": {},
   "source": [
    "знайдіть ці ж параметри за допомогою аналітичного рішення;"
   ]
  },
  {
   "cell_type": "code",
   "execution_count": 27,
   "id": "64eb0ff9-1196-415d-be62-3d8b62c5b7e7",
   "metadata": {},
   "outputs": [],
   "source": [
    "x_t = x.T\n",
    "tmp = x_t.dot(x)\n",
    "tmp = pd.DataFrame(np.linalg.inv(tmp.values), tmp.columns, tmp.index)\n",
    "tmp = tmp.dot(x_t)\n",
    "w1 = tmp.dot(y)"
   ]
  },
  {
   "cell_type": "code",
   "execution_count": 29,
   "id": "9c1b97dd-a797-4771-b256-2ceca019ecbb",
   "metadata": {},
   "outputs": [],
   "source": [
    "w2 = pd.DataFrame(np.linalg.pinv(x.values), x.columns, x.index).dot(y)"
   ]
  },
  {
   "cell_type": "code",
   "execution_count": 31,
   "id": "dc9c292f-9b65-473d-b2e2-0d4d73495f48",
   "metadata": {},
   "outputs": [
    {
     "data": {
      "text/html": [
       "<div>\n",
       "<style scoped>\n",
       "    .dataframe tbody tr th:only-of-type {\n",
       "        vertical-align: middle;\n",
       "    }\n",
       "\n",
       "    .dataframe tbody tr th {\n",
       "        vertical-align: top;\n",
       "    }\n",
       "\n",
       "    .dataframe thead th {\n",
       "        text-align: right;\n",
       "    }\n",
       "</style>\n",
       "<table border=\"1\" class=\"dataframe\">\n",
       "  <thead>\n",
       "    <tr style=\"text-align: right;\">\n",
       "      <th></th>\n",
       "      <th>0</th>\n",
       "    </tr>\n",
       "  </thead>\n",
       "  <tbody>\n",
       "    <tr>\n",
       "      <th>x_0</th>\n",
       "      <td>-1.731716e+05</td>\n",
       "    </tr>\n",
       "    <tr>\n",
       "      <th>area</th>\n",
       "      <td>3.787628e+02</td>\n",
       "    </tr>\n",
       "    <tr>\n",
       "      <th>bathrooms</th>\n",
       "      <td>1.386049e+06</td>\n",
       "    </tr>\n",
       "    <tr>\n",
       "      <th>bedrooms</th>\n",
       "      <td>4.068200e+05</td>\n",
       "    </tr>\n",
       "  </tbody>\n",
       "</table>\n",
       "</div>"
      ],
      "text/plain": [
       "                      0\n",
       "x_0       -1.731716e+05\n",
       "area       3.787628e+02\n",
       "bathrooms  1.386049e+06\n",
       "bedrooms   4.068200e+05"
      ]
     },
     "execution_count": 31,
     "metadata": {},
     "output_type": "execute_result"
    }
   ],
   "source": [
    "w1"
   ]
  },
  {
   "cell_type": "code",
   "execution_count": 33,
   "id": "513419fe-47c8-4814-ad6d-d7c656cc1566",
   "metadata": {},
   "outputs": [
    {
     "data": {
      "text/html": [
       "<div>\n",
       "<style scoped>\n",
       "    .dataframe tbody tr th:only-of-type {\n",
       "        vertical-align: middle;\n",
       "    }\n",
       "\n",
       "    .dataframe tbody tr th {\n",
       "        vertical-align: top;\n",
       "    }\n",
       "\n",
       "    .dataframe thead th {\n",
       "        text-align: right;\n",
       "    }\n",
       "</style>\n",
       "<table border=\"1\" class=\"dataframe\">\n",
       "  <thead>\n",
       "    <tr style=\"text-align: right;\">\n",
       "      <th></th>\n",
       "      <th>0</th>\n",
       "    </tr>\n",
       "  </thead>\n",
       "  <tbody>\n",
       "    <tr>\n",
       "      <th>x_0</th>\n",
       "      <td>-1.731716e+05</td>\n",
       "    </tr>\n",
       "    <tr>\n",
       "      <th>area</th>\n",
       "      <td>3.787628e+02</td>\n",
       "    </tr>\n",
       "    <tr>\n",
       "      <th>bathrooms</th>\n",
       "      <td>1.386049e+06</td>\n",
       "    </tr>\n",
       "    <tr>\n",
       "      <th>bedrooms</th>\n",
       "      <td>4.068200e+05</td>\n",
       "    </tr>\n",
       "  </tbody>\n",
       "</table>\n",
       "</div>"
      ],
      "text/plain": [
       "                      0\n",
       "x_0       -1.731716e+05\n",
       "area       3.787628e+02\n",
       "bathrooms  1.386049e+06\n",
       "bedrooms   4.068200e+05"
      ]
     },
     "execution_count": 33,
     "metadata": {},
     "output_type": "execute_result"
    }
   ],
   "source": [
    "w2"
   ]
  },
  {
   "cell_type": "markdown",
   "id": "750f3aa5-f046-4a0e-99ae-c9fe2f919cfc",
   "metadata": {},
   "source": [
    "Значення функції втрат для сету коефіцієнтів, знайдених за допомогою аналітичного рішення:"
   ]
  },
  {
   "cell_type": "code",
   "execution_count": 35,
   "id": "7e3be28f-90ea-4a23-acce-28eb7c7febb3",
   "metadata": {},
   "outputs": [
    {
     "data": {
      "text/plain": [
       "946353.5412247685"
      ]
     },
     "execution_count": 35,
     "metadata": {},
     "output_type": "execute_result"
    }
   ],
   "source": [
    "loss_func(lin_reg_func(w1, x), y)[0]"
   ]
  },
  {
   "cell_type": "code",
   "execution_count": 41,
   "id": "e2a8d06c-5f71-49a6-b04a-8a9f028877cf",
   "metadata": {},
   "outputs": [
    {
     "name": "stdout",
     "output_type": "stream",
     "text": [
      "Порівняння коефіцієнтів:\n",
      "                w_grad  w_analytical     w_sklearn\n",
      "x_0        1000.052476 -1.731716e+05 -1.731716e+05\n",
      "area        854.997851  3.787628e+02  3.787628e+02\n",
      "bathrooms  1000.131438  1.386049e+06  1.386049e+06\n",
      "bedrooms   1000.217689  4.068200e+05  4.068200e+05\n"
     ]
    }
   ],
   "source": [
    "from sklearn.linear_model import LinearRegression\n",
    "\n",
    "# Створюємо модель\n",
    "model = LinearRegression()\n",
    "\n",
    "# Навчаємо модель без колонки x_0\n",
    "model.fit(x.drop(columns=\"x_0\"), y)\n",
    "\n",
    "# Отримаємо ваги: інтерцепт та коефіцієнти\n",
    "w_sklearn = pd.DataFrame(\n",
    "    [model.intercept_[0]] + list(model.coef_[0]),\n",
    "    index=[\"x_0\", \"area\", \"bathrooms\", \"bedrooms\"],\n",
    "    columns=[\"w_sklearn\"]\n",
    ")\n",
    "\n",
    "w[\"w_grad\"] = w[0]\n",
    "w_compare = pd.concat([w[[\"w_grad\"]], w1.rename(columns={0: \"w_analytical\"}), w_sklearn], axis=1)\n",
    "\n",
    "print(\"Порівняння коефіцієнтів:\")\n",
    "print(w_compare)"
   ]
  },
  {
   "cell_type": "code",
   "execution_count": 39,
   "id": "c002dc98-4f5f-4ec1-b43e-bc2662732de2",
   "metadata": {},
   "outputs": [
    {
     "name": "stdout",
     "output_type": "stream",
     "text": [
      "\n",
      "Loss (градієнтний спуск): 1732384.04\n",
      "Loss (аналітичне рішення): 946353.54\n",
      "Loss (sklearn): 946353.54\n"
     ]
    }
   ],
   "source": [
    "loss_grad = loss_func(lin_reg_func(w[\"w_grad\"], x), y)[0]\n",
    "loss_analytical = loss_func(lin_reg_func(w1, x), y)[0]\n",
    "loss_sklearn = loss_func(model.predict(x.drop(columns=\"x_0\")), y)[0]\n",
    "\n",
    "print(f\"\\nLoss (градієнтний спуск): {loss_grad:.2f}\")\n",
    "print(f\"Loss (аналітичне рішення): {loss_analytical:.2f}\")\n",
    "print(f\"Loss (sklearn): {loss_sklearn:.2f}\")"
   ]
  },
  {
   "cell_type": "code",
   "execution_count": null,
   "id": "e8bc85de-63ae-4bc8-afa5-f79b9f6d8e54",
   "metadata": {},
   "outputs": [],
   "source": []
  },
  {
   "cell_type": "code",
   "execution_count": null,
   "id": "819da66e-d7ae-4a91-b230-b3050d9667dc",
   "metadata": {},
   "outputs": [],
   "source": []
  }
 ],
 "metadata": {
  "kernelspec": {
   "display_name": "Python 3 (ipykernel)",
   "language": "python",
   "name": "python3"
  },
  "language_info": {
   "codemirror_mode": {
    "name": "ipython",
    "version": 3
   },
   "file_extension": ".py",
   "mimetype": "text/x-python",
   "name": "python",
   "nbconvert_exporter": "python",
   "pygments_lexer": "ipython3",
   "version": "3.12.4"
  }
 },
 "nbformat": 4,
 "nbformat_minor": 5
}
